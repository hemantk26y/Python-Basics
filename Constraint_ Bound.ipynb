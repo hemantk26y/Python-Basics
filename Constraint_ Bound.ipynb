{
 "cells": [
  {
   "cell_type": "code",
   "execution_count": 8,
   "metadata": {},
   "outputs": [],
   "source": [
    "#assignment\n",
    "#objective=x1*(x1*x2 + x3)+x3\n",
    "#x1*x2*x3 = 16\n",
    "# x1^2  + x2^2 + x3^@ <=25 : constraint 2\n",
    "import numpy as np\n",
    "from scipy.optimize import minimize"
   ]
  },
  {
   "cell_type": "code",
   "execution_count": 9,
   "metadata": {},
   "outputs": [],
   "source": [
    "def func(x):\n",
    "    x1 = x[0]\n",
    "    x2 = x[1]\n",
    "    x3 = x[2]\n",
    "    value = (x1 *(x1*x2 + x3))+ x3\n",
    "    return value\n",
    "def f1(x):\n",
    "    x1 = x[0]\n",
    "    x2 = x[1]\n",
    "    x3 = x[2]\n",
    "    out1 = x1*x2*x3\n",
    "    return out1\n",
    "def f2(x):\n",
    "    x1 = x[0]\n",
    "    x2 = x[1]\n",
    "    x3 = x[2]\n",
    "    out2 = x1**2 + x2**2 + x3**2\n",
    "    return out2"
   ]
  },
  {
   "cell_type": "code",
   "execution_count": 10,
   "metadata": {},
   "outputs": [],
   "source": [
    "# Define the objective function for the optimization problem\n",
    "def Object(x):\n",
    "    return -func(x)"
   ]
  },
  {
   "cell_type": "code",
   "execution_count": 11,
   "metadata": {},
   "outputs": [],
   "source": [
    "def constraint1(x):\n",
    "    return 16 -f1(x)"
   ]
  },
  {
   "cell_type": "code",
   "execution_count": 12,
   "metadata": {},
   "outputs": [],
   "source": [
    "def constraint2(x):\n",
    "    return 25 - f2(x)"
   ]
  },
  {
   "cell_type": "code",
   "execution_count": 13,
   "metadata": {},
   "outputs": [],
   "source": [
    "\n",
    "# Load constraints into dictionary form\n",
    "const1 = ({'type':'ineq', 'fun':constraint1})\n",
    "const2 = ({'type':'eq', 'fun':constraint2})\n",
    "#tabulating them in matrix\n",
    "constrat = np.array([const1,const2])\n"
   ]
  },
  {
   "cell_type": "code",
   "execution_count": 22,
   "metadata": {},
   "outputs": [],
   "source": [
    "x1o = 2\n",
    "x2o = 3\n",
    "x3o = 4\n",
    "# loading the guess values in array form\n",
    "x0 = np.array([x1o, x2o, x3o])\n",
    "B = (1.0, 6.0) #this is the upper and lower bound for x1\n",
    "b_d = (B, B, B)\n"
   ]
  },
  {
   "cell_type": "code",
   "execution_count": 23,
   "metadata": {},
   "outputs": [
    {
     "name": "stdout",
     "output_type": "stream",
     "text": [
      "[4.02872481 2.78736012 1.        ]\n"
     ]
    }
   ],
   "source": [
    "#calling the solver SLSQP: sequential least square problem and the minimize function\n",
    "sol = minimize(Object, x0, method = 'SLSQP', bounds = b_d, constraints = constrat)\n",
    "xopt = sol.x\n",
    "print(xopt)"
   ]
  },
  {
   "cell_type": "code",
   "execution_count": 24,
   "metadata": {},
   "outputs": [
    {
     "name": "stdout",
     "output_type": "stream",
     "text": [
      "50.269317643765575\n"
     ]
    }
   ],
   "source": [
    "func_opt = func(xopt)\n",
    "print(func_opt)"
   ]
  },
  {
   "cell_type": "code",
   "execution_count": null,
   "metadata": {},
   "outputs": [],
   "source": []
  }
 ],
 "metadata": {
  "kernelspec": {
   "display_name": "Python 3.10.6 64-bit (windows store)",
   "language": "python",
   "name": "python3"
  },
  "language_info": {
   "codemirror_mode": {
    "name": "ipython",
    "version": 3
   },
   "file_extension": ".py",
   "mimetype": "text/x-python",
   "name": "python",
   "nbconvert_exporter": "python",
   "pygments_lexer": "ipython3",
   "version": "3.10.6"
  },
  "orig_nbformat": 4,
  "vscode": {
   "interpreter": {
    "hash": "dc9535c335405fe1f3d76ce50751aad541b30350bc9c67f5ca95c4d296c86853"
   }
  }
 },
 "nbformat": 4,
 "nbformat_minor": 2
}
